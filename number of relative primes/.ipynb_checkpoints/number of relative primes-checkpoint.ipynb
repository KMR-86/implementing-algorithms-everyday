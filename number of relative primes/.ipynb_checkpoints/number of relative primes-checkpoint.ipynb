{
 "cells": [
  {
   "cell_type": "code",
   "execution_count": 2,
   "metadata": {},
   "outputs": [
    {
     "name": "stdout",
     "output_type": "stream",
     "text": [
      "2\n",
      "20\n",
      "1237.0\n"
     ]
    }
   ],
   "source": [
    "import math\n",
    "def is_prime(n:int):\n",
    "    if n==1:\n",
    "        return False\n",
    "    \n",
    "    for i in range(2,int(math.sqrt(n))+1):\n",
    "        if n%i==0:\n",
    "            return False\n",
    "    \n",
    "    return True\n",
    "def num_of_relative_prime(n:int):\n",
    "    l=[]\n",
    "    for i in range(2,n+1):\n",
    "        if is_prime(i) and n%i==0:\n",
    "            l.append(int(i))\n",
    "    ret=n\n",
    "    for i in range(len(l)):\n",
    "        ret=ret*(1-(1/l[i]))\n",
    "    #print(l)\n",
    "    return ret\n",
    "\n",
    "\n",
    "    \n",
    "#print(num_of_relative_prime(int(input(\"enter the number: \\n\"))))\n",
    "count=int(input())\n",
    "for k in range(count)\n",
    "    a=int(input())\n",
    "    b=int(input())\n",
    "    ans=0\n",
    "    for i in range(a,b+1):\n",
    "        #print(num_of_relative_prime(i))\n",
    "        ans=ans+num_of_relative_prime(i)**2\n",
    "    print(\"Case \",k+1,\": \",ans)"
   ]
  },
  {
   "cell_type": "code",
   "execution_count": null,
   "metadata": {},
   "outputs": [],
   "source": []
  },
  {
   "cell_type": "code",
   "execution_count": null,
   "metadata": {},
   "outputs": [],
   "source": []
  },
  {
   "cell_type": "code",
   "execution_count": null,
   "metadata": {},
   "outputs": [],
   "source": []
  }
 ],
 "metadata": {
  "kernelspec": {
   "display_name": "Python 3",
   "language": "python",
   "name": "python3"
  },
  "language_info": {
   "codemirror_mode": {
    "name": "ipython",
    "version": 3
   },
   "file_extension": ".py",
   "mimetype": "text/x-python",
   "name": "python",
   "nbconvert_exporter": "python",
   "pygments_lexer": "ipython3",
   "version": "3.7.4"
  }
 },
 "nbformat": 4,
 "nbformat_minor": 2
}
